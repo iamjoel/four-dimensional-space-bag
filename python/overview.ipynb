{
 "cells": [
  {
   "attachments": {},
   "cell_type": "markdown",
   "metadata": {},
   "source": [
    "# Python 3\n",
    "* [Python 3.10 官方教程](https://docs.python.org/zh-cn/3.10/tutorial/index.html)\n",
    "* [Python 之旅](https://github.com/ethan-funny/explore-python)\n"
   ]
  },
  {
   "attachments": {},
   "cell_type": "markdown",
   "metadata": {},
   "source": [
    "## 变量\n",
    "定义变量，改变变量。python 默认不支持常量。"
   ]
  },
  {
   "cell_type": "code",
   "execution_count": null,
   "metadata": {},
   "outputs": [],
   "source": [
    "foo = 3\n",
    "print(foo)\n",
    "foo = 5\n",
    "print(foo)\n"
   ]
  },
  {
   "attachments": {},
   "cell_type": "markdown",
   "metadata": {},
   "source": [
    "## 函数"
   ]
  },
  {
   "attachments": {},
   "cell_type": "markdown",
   "metadata": {},
   "source": [
    "### 常规"
   ]
  },
  {
   "cell_type": "code",
   "execution_count": null,
   "metadata": {},
   "outputs": [],
   "source": [
    "def printMsg(msg: str) -> None:\n",
    "  print(msg)\n",
    "\n",
    "printMsg(\"Hello World!\")\n",
    "\n",
    "def sum(a: int, b: int) -> int:\n",
    "  return a + b\n",
    "print(sum(3, 5))"
   ]
  },
  {
   "attachments": {},
   "cell_type": "markdown",
   "metadata": {},
   "source": [
    "### 关键字参数\n",
    "无视顺序的 key = value 传值到对象上。可以很好的提升开发体验。"
   ]
  },
  {
   "cell_type": "code",
   "execution_count": null,
   "metadata": {},
   "outputs": [],
   "source": [
    "def postData(**data) -> None:\n",
    "  print(data)\n",
    "\n",
    "postData(name=\"John\", age=36)"
   ]
  },
  {
   "attachments": {},
   "cell_type": "markdown",
   "metadata": {},
   "source": [
    "## 数据类型"
   ]
  },
  {
   "attachments": {},
   "cell_type": "markdown",
   "metadata": {},
   "source": [
    "### 数字"
   ]
  },
  {
   "cell_type": "code",
   "execution_count": null,
   "metadata": {},
   "outputs": [],
   "source": [
    "squared = 7 ** 2\n",
    "print(squared )# >>> 49\n",
    "\n",
    "floatSum = 0.1 + 0.2\n",
    "print(floatSum) # >>> 0.3000004\n"
   ]
  },
  {
   "attachments": {},
   "cell_type": "markdown",
   "metadata": {},
   "source": [
    "### 字符串"
   ]
  },
  {
   "cell_type": "code",
   "execution_count": null,
   "metadata": {},
   "outputs": [],
   "source": [
    "str = 'My name is ' + 'Joel. What\\'s your name?\\n'\n",
    "print(str)\n",
    "\n",
    "joinStr = 'Py' 'thon'\n",
    "print(joinStr)\n",
    "\n",
    "multiLineStr = \"\"\"\n",
    "Usage: thingy [OPTIONS]\n",
    "-h                        Display this usage message\n",
    "-H hostname   \n",
    "\"\"\"\n",
    "print(multiLineStr)"
   ]
  },
  {
   "attachments": {},
   "cell_type": "markdown",
   "metadata": {},
   "source": [
    "#### 操作"
   ]
  },
  {
   "cell_type": "code",
   "execution_count": 26,
   "metadata": {},
   "outputs": [
    {
     "name": "stdout",
     "output_type": "stream",
     "text": [
      "J\n",
      "l\n",
      "Jo\n",
      "********************\n"
     ]
    }
   ],
   "source": [
    "name = 'Joel'\n",
    "print(name[0]) # J\n",
    "print(name[-1]) # l。从右边检索\n",
    "print(name[0: 2]) # Jo。 和 js 的 slice 参数一样\n",
    "\n",
    "print('*' * 20) # * 重复 20 次"
   ]
  },
  {
   "attachments": {},
   "cell_type": "markdown",
   "metadata": {},
   "source": [
    "## 外部包\n",
    "在 Jupiter Notebook 的 python 环境中，安装过外部包后，就可以直接 import 用了。"
   ]
  },
  {
   "cell_type": "code",
   "execution_count": null,
   "metadata": {},
   "outputs": [],
   "source": [
    "import matplotlib.pyplot as plt\n",
    "import numpy as np\n",
    "x = np.linspace(0, 2 * np.pi, 200)\n",
    "y = np.sin(x)\n",
    "\n",
    "fig, ax = plt.subplots()\n",
    "ax.plot(x, y)\n",
    "plt.show()"
   ]
  }
 ],
 "metadata": {
  "kernelspec": {
   "display_name": "Python 3",
   "language": "python",
   "name": "python3"
  },
  "language_info": {
   "codemirror_mode": {
    "name": "ipython",
    "version": 3
   },
   "file_extension": ".py",
   "mimetype": "text/x-python",
   "name": "python",
   "nbconvert_exporter": "python",
   "pygments_lexer": "ipython3",
   "version": "3.10.11"
  },
  "orig_nbformat": 4
 },
 "nbformat": 4,
 "nbformat_minor": 2
}
