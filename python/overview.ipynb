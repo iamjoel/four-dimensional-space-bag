{
 "cells": [
  {
   "attachments": {},
   "cell_type": "markdown",
   "metadata": {},
   "source": [
    "# Python 3\n",
    "* [Python 3.10 官方教程](https://docs.python.org/zh-cn/3.10/tutorial/index.html)\n",
    "* [Python 之旅](https://github.com/ethan-funny/explore-python)\n"
   ]
  },
  {
   "attachments": {},
   "cell_type": "markdown",
   "metadata": {},
   "source": [
    "## 变量\n",
    "定义变量，改变变量。python 默认不支持常量。"
   ]
  },
  {
   "cell_type": "code",
   "execution_count": null,
   "metadata": {},
   "outputs": [],
   "source": [
    "foo = 3\n",
    "print(foo)\n",
    "foo = 5\n",
    "print(foo)"
   ]
  },
  {
   "attachments": {},
   "cell_type": "markdown",
   "metadata": {},
   "source": [
    "## 函数"
   ]
  },
  {
   "attachments": {},
   "cell_type": "markdown",
   "metadata": {},
   "source": [
    "### 常规"
   ]
  },
  {
   "cell_type": "code",
   "execution_count": null,
   "metadata": {},
   "outputs": [],
   "source": [
    "def printMsg(msg: str) -> None:\n",
    "  print(msg)\n",
    "\n",
    "printMsg(\"Hello World!\")\n",
    "\n",
    "def sum(a: int, b: int) -> int:\n",
    "  return a + b\n",
    "print(sum(3, 5))"
   ]
  },
  {
   "attachments": {},
   "cell_type": "markdown",
   "metadata": {},
   "source": [
    "### 关键字参数\n",
    "无视顺序的 key = value 传值到对象上。可以很好的提升开发体验。"
   ]
  },
  {
   "cell_type": "code",
   "execution_count": null,
   "metadata": {},
   "outputs": [],
   "source": [
    "def postData(**data) -> None:\n",
    "  print(data)\n",
    "\n",
    "postData(name=\"John\", age=36)"
   ]
  },
  {
   "attachments": {},
   "cell_type": "markdown",
   "metadata": {},
   "source": [
    "## 数据类型"
   ]
  },
  {
   "attachments": {},
   "cell_type": "markdown",
   "metadata": {},
   "source": [
    "### 数字"
   ]
  },
  {
   "cell_type": "code",
   "execution_count": null,
   "metadata": {},
   "outputs": [],
   "source": [
    "squared = 7 ** 2\n",
    "print(squared )# >>> 49\n",
    "\n",
    "floatSum = 0.1 + 0.2\n",
    "print(floatSum) # >>> 0.3000004\n",
    "\n",
    "# 操作符： +-*/，%\n"
   ]
  },
  {
   "attachments": {},
   "cell_type": "markdown",
   "metadata": {},
   "source": [
    "### 字符串"
   ]
  },
  {
   "cell_type": "code",
   "execution_count": null,
   "metadata": {},
   "outputs": [],
   "source": [
    "str = 'My name is ' + 'Joel. What\\'s your name?\\n'\n",
    "print(str)\n",
    "\n",
    "joinStr = 'Py' 'thon'\n",
    "print(joinStr)\n",
    "\n",
    "multiLineStr = \"\"\"\n",
    "Usage: thingy [OPTIONS]\n",
    "-h                        Display this usage message\n",
    "-H hostname   \n",
    "\"\"\"\n",
    "print(multiLineStr)"
   ]
  },
  {
   "attachments": {},
   "cell_type": "markdown",
   "metadata": {},
   "source": [
    "#### 操作"
   ]
  },
  {
   "cell_type": "code",
   "execution_count": null,
   "metadata": {},
   "outputs": [],
   "source": [
    "name = 'Joel'\n",
    "print(name[0]) # J\n",
    "print(name[-1]) # l。从右边检索\n",
    "print(name[0: 2]) # Jo。 和 js 的 slice 参数一样\n",
    "\n",
    "print('*' * 20) # * 重复 20 次\n",
    "print(len(name)) # 4。字符串的长度。\n",
    "\n",
    "#  print(name[22]) # 下标越界会报错\n",
    "print('*' * 20) # * 重复 20 次\n",
    "print(name.find('Jo')) # 0。找到的下标\n",
    "print(name.find('xxx')) # -1。找到的下标\n",
    "\n",
    "# format\n",
    "print('*' * 20) # * 重复 20 次\n",
    "print('{left} + {right} = {sum}'.format(left=1, right=2, sum=3))"
   ]
  },
  {
   "attachments": {},
   "cell_type": "markdown",
   "metadata": {},
   "source": [
    "### 列表"
   ]
  },
  {
   "cell_type": "code",
   "execution_count": null,
   "metadata": {},
   "outputs": [],
   "source": [
    "list = [1,2,3]\n",
    "print(list)"
   ]
  },
  {
   "attachments": {},
   "cell_type": "markdown",
   "metadata": {},
   "source": [
    "#### 操作"
   ]
  },
  {
   "cell_type": "code",
   "execution_count": null,
   "metadata": {},
   "outputs": [],
   "source": [
    "list = [1, 2, 3, 4, 5]\n",
    "print('list length is {listLen}'.format(listLen = len(list)))\n",
    "print(list[0])\n",
    "print(list[1:]) # 1, toEnd\n",
    "print(list[1:3])\n",
    "\n",
    "# 浅拷贝\n",
    "print('*' * 20 + '\\n')\n",
    "listSliceCopy = list[:]\n",
    "listSliceCopy[0] = 8\n",
    "print('list[0] is {listFirstElem}, listSliceCopy[0] is {listSliceCopyFirstElem}'.format(listFirstElem = list[0], listSliceCopyFirstElem = listSliceCopy[0]))\n",
    "\n",
    "# 列表连接\n",
    "print('*' * 20 + '\\n')\n",
    "list2 = [1, 2] + [5, 6]\n",
    "print(list2)\n"
   ]
  },
  {
   "attachments": {},
   "cell_type": "markdown",
   "metadata": {},
   "source": [
    "## 流程控制"
   ]
  },
  {
   "attachments": {},
   "cell_type": "markdown",
   "metadata": {},
   "source": [
    "### 条件"
   ]
  },
  {
   "cell_type": "code",
   "execution_count": null,
   "metadata": {},
   "outputs": [],
   "source": [
    "def isOddNum (num):\n",
    "    if num % 2 == 0:\n",
    "        return True\n",
    "    return False\n",
    "\n",
    "def printDetectOdd (num):\n",
    "    res = isOddNum(num)\n",
    "    # python 的三元表达式写法没有js 直观\n",
    "    print('{num} is{info} num'.format(num = num, info = ' odd' if res else 'n\\'t odd'))\n",
    "\n",
    "printDetectOdd(4)\n",
    "printDetectOdd(5)\n",
    "\n",
    "def level (num): \n",
    "    if num > 90:\n",
    "        return 'H'\n",
    "    elif num > 80:\n",
    "        return 'M'\n",
    "    else:\n",
    "        return 'L'\n",
    "\n",
    "print('99 is ' + level(99))\n",
    "print('89 is ' + level(89))\n",
    "print('79 is ' + level(79))\n",
    "\n",
    "# switch case\n",
    "def http_error(status):\n",
    "    match status:\n",
    "        case 400:\n",
    "            return \"Bad request\"\n",
    "        case 404:\n",
    "            return \"Not found\"\n",
    "        case 418:\n",
    "            return \"I'm a teapot\"\n",
    "        case _:\n",
    "            return \"Something's wrong with the internet\"\n",
    "\n",
    "print(http_error(400))"
   ]
  },
  {
   "attachments": {},
   "cell_type": "markdown",
   "metadata": {},
   "source": [
    "### 循环"
   ]
  },
  {
   "cell_type": "code",
   "execution_count": null,
   "metadata": {},
   "outputs": [],
   "source": [
    "nums = [1, 2, 3]\n",
    "sum1 = 0\n",
    "for i in range(len(nums)):\n",
    "  sum1 += nums[i]\n",
    "print(sum1)\n",
    "\n",
    "sum2 = 0\n",
    "j = 0\n",
    "while(j < len(nums)):\n",
    "  sum2 += nums[j]\n",
    "  j = j + 1\n",
    "\n",
    "print(sum2)\n",
    "\n",
    "# continue, break"
   ]
  },
  {
   "attachments": {},
   "cell_type": "markdown",
   "metadata": {},
   "source": [
    "## 外部包\n",
    "在 Jupiter Notebook 的 python 环境中，安装过外部包后，就可以直接 import 用了。"
   ]
  },
  {
   "cell_type": "code",
   "execution_count": null,
   "metadata": {},
   "outputs": [],
   "source": [
    "import matplotlib.pyplot as plt\n",
    "import numpy as np\n",
    "x = np.linspace(0, 2 * np.pi, 200)\n",
    "y = np.sin(x)\n",
    "\n",
    "fig, ax = plt.subplots()\n",
    "ax.plot(x, y)\n",
    "plt.show()"
   ]
  }
 ],
 "metadata": {
  "kernelspec": {
   "display_name": "Python 3",
   "language": "python",
   "name": "python3"
  },
  "language_info": {
   "codemirror_mode": {
    "name": "ipython",
    "version": 3
   },
   "file_extension": ".py",
   "mimetype": "text/x-python",
   "name": "python",
   "nbconvert_exporter": "python",
   "pygments_lexer": "ipython3",
   "version": "3.10.11"
  },
  "orig_nbformat": 4
 },
 "nbformat": 4,
 "nbformat_minor": 2
}
